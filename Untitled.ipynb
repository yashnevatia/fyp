{
 "cells": [
  {
   "cell_type": "code",
   "execution_count": 1,
   "metadata": {},
   "outputs": [
    {
     "name": "stdout",
     "output_type": "stream",
     "text": [
      "Still in the loop.\n",
      "Still in the loop.\n",
      "Still in the loop.\n",
      "Still in the loop.\n",
      "Still in the loop.\n",
      "Outside of the loop.\n",
      "y =  19.0\n"
     ]
    }
   ],
   "source": [
    "x = 3\n",
    "y = 2\n",
    "while x < 10:\n",
    "\tif x > 7:\n",
    "\t\tx += 2\n",
    "\t\tcontinue\n",
    "\tx = x + 1\n",
    "\tprint(\"Still in the loop.\")\n",
    "\tif x == 8:\n",
    "\t\texpr = \"y * x + 12 / 4\"\n",
    "\t\tbreak\n",
    "print(\"Outside of the loop.\")\n",
    "print(\"y = \", eval(expr))"
   ]
  },
  {
   "cell_type": "code",
   "execution_count": 2,
   "metadata": {},
   "outputs": [
    {
     "name": "stdout",
     "output_type": "stream",
     "text": [
      "Still in the loop.\n",
      "Still in the loop.\n",
      "Still in the loop.\n",
      "Still in the loop.\n",
      "Still in the loop.\n",
      "Outside of the loop.\n",
      "y =  23.0\n"
     ]
    }
   ],
   "source": [
    "x = 3\n",
    "y = 2\n",
    "while x < 10:\n",
    "\tif x > 7:\n",
    "\t\tx += 2\n",
    "\t\tcontinue\n",
    "\tx = x + 1\n",
    "\tprint(\"Still in the loop.\")\n",
    "\tif x == 9:\n",
    "\t\texpr = \"y * x + 12 / 4\"\n",
    "\t\tbreak\n",
    "print(\"Outside of the loop.\")\n",
    "print(\"y = \", eval(expr))"
   ]
  },
  {
   "cell_type": "code",
   "execution_count": 9,
   "metadata": {},
   "outputs": [
    {
     "data": {
      "text/plain": [
       "['1', '2', '3']"
      ]
     },
     "execution_count": 9,
     "metadata": {},
     "output_type": "execute_result"
    }
   ],
   "source": [
    "\"[1,2,3]\"[1:-1].split(',')"
   ]
  },
  {
   "cell_type": "code",
   "execution_count": 4,
   "metadata": {},
   "outputs": [
    {
     "data": {
      "text/plain": [
       "'[1, 2]'"
      ]
     },
     "execution_count": 4,
     "metadata": {},
     "output_type": "execute_result"
    }
   ],
   "source": [
    "str([1,2])"
   ]
  },
  {
   "cell_type": "code",
   "execution_count": null,
   "metadata": {
    "collapsed": true
   },
   "outputs": [],
   "source": []
  }
 ],
 "metadata": {
  "kernelspec": {
   "display_name": "Python 3",
   "language": "python",
   "name": "python3"
  },
  "language_info": {
   "codemirror_mode": {
    "name": "ipython",
    "version": 3
   },
   "file_extension": ".py",
   "mimetype": "text/x-python",
   "name": "python",
   "nbconvert_exporter": "python",
   "pygments_lexer": "ipython3",
   "version": "3.5.3"
  }
 },
 "nbformat": 4,
 "nbformat_minor": 2
}
